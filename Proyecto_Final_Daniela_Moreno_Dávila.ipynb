{
  "cells": [
    {
      "cell_type": "markdown",
      "metadata": {
        "id": "view-in-github",
        "colab_type": "text"
      },
      "source": [
        "<a href=\"https://colab.research.google.com/github/danimorenod/Entregas/blob/main/Proyecto_Final_Daniela_Moreno_D%C3%A1vila.ipynb\" target=\"_parent\"><img src=\"https://colab.research.google.com/assets/colab-badge.svg\" alt=\"Open In Colab\"/></a>"
      ]
    },
    {
      "cell_type": "markdown",
      "metadata": {
        "id": "vWmc_s2ezvU0"
      },
      "source": [
        "# Run streamlit app from a Google Colab Notebook\n",
        "> Created by [Manuel Romero](https://twitter.com/mrm8488)"
      ]
    },
    {
      "cell_type": "code",
      "execution_count": 31,
      "metadata": {
        "id": "RvlYkCQ9vFiy"
      },
      "outputs": [],
      "source": [
        "!pip install -q streamlit"
      ]
    },
    {
      "cell_type": "code",
      "source": [
        "!pip install streamlit yagmail\n"
      ],
      "metadata": {
        "colab": {
          "base_uri": "https://localhost:8080/"
        },
        "id": "txneAUUVVx8Z",
        "outputId": "e6c5a78c-aed2-405f-df14-2ddccab59ab5"
      },
      "execution_count": 32,
      "outputs": [
        {
          "output_type": "stream",
          "name": "stdout",
          "text": [
            "Requirement already satisfied: streamlit in /usr/local/lib/python3.10/dist-packages (1.40.2)\n",
            "Requirement already satisfied: yagmail in /usr/local/lib/python3.10/dist-packages (0.15.293)\n",
            "Requirement already satisfied: altair<6,>=4.0 in /usr/local/lib/python3.10/dist-packages (from streamlit) (4.2.2)\n",
            "Requirement already satisfied: blinker<2,>=1.0.0 in /usr/local/lib/python3.10/dist-packages (from streamlit) (1.9.0)\n",
            "Requirement already satisfied: cachetools<6,>=4.0 in /usr/local/lib/python3.10/dist-packages (from streamlit) (5.5.0)\n",
            "Requirement already satisfied: click<9,>=7.0 in /usr/local/lib/python3.10/dist-packages (from streamlit) (8.1.7)\n",
            "Requirement already satisfied: numpy<3,>=1.23 in /usr/local/lib/python3.10/dist-packages (from streamlit) (1.26.4)\n",
            "Requirement already satisfied: packaging<25,>=20 in /usr/local/lib/python3.10/dist-packages (from streamlit) (24.2)\n",
            "Requirement already satisfied: pandas<3,>=1.4.0 in /usr/local/lib/python3.10/dist-packages (from streamlit) (2.2.2)\n",
            "Requirement already satisfied: pillow<12,>=7.1.0 in /usr/local/lib/python3.10/dist-packages (from streamlit) (11.0.0)\n",
            "Requirement already satisfied: protobuf<6,>=3.20 in /usr/local/lib/python3.10/dist-packages (from streamlit) (4.25.5)\n",
            "Requirement already satisfied: pyarrow>=7.0 in /usr/local/lib/python3.10/dist-packages (from streamlit) (17.0.0)\n",
            "Requirement already satisfied: requests<3,>=2.27 in /usr/local/lib/python3.10/dist-packages (from streamlit) (2.32.3)\n",
            "Requirement already satisfied: rich<14,>=10.14.0 in /usr/local/lib/python3.10/dist-packages (from streamlit) (13.9.4)\n",
            "Requirement already satisfied: tenacity<10,>=8.1.0 in /usr/local/lib/python3.10/dist-packages (from streamlit) (9.0.0)\n",
            "Requirement already satisfied: toml<2,>=0.10.1 in /usr/local/lib/python3.10/dist-packages (from streamlit) (0.10.2)\n",
            "Requirement already satisfied: typing-extensions<5,>=4.3.0 in /usr/local/lib/python3.10/dist-packages (from streamlit) (4.12.2)\n",
            "Requirement already satisfied: watchdog<7,>=2.1.5 in /usr/local/lib/python3.10/dist-packages (from streamlit) (6.0.0)\n",
            "Requirement already satisfied: gitpython!=3.1.19,<4,>=3.0.7 in /usr/local/lib/python3.10/dist-packages (from streamlit) (3.1.43)\n",
            "Requirement already satisfied: pydeck<1,>=0.8.0b4 in /usr/local/lib/python3.10/dist-packages (from streamlit) (0.9.1)\n",
            "Requirement already satisfied: tornado<7,>=6.0.3 in /usr/local/lib/python3.10/dist-packages (from streamlit) (6.3.3)\n",
            "Requirement already satisfied: premailer in /usr/local/lib/python3.10/dist-packages (from yagmail) (3.10.0)\n",
            "Requirement already satisfied: entrypoints in /usr/local/lib/python3.10/dist-packages (from altair<6,>=4.0->streamlit) (0.4)\n",
            "Requirement already satisfied: jinja2 in /usr/local/lib/python3.10/dist-packages (from altair<6,>=4.0->streamlit) (3.1.4)\n",
            "Requirement already satisfied: jsonschema>=3.0 in /usr/local/lib/python3.10/dist-packages (from altair<6,>=4.0->streamlit) (4.23.0)\n",
            "Requirement already satisfied: toolz in /usr/local/lib/python3.10/dist-packages (from altair<6,>=4.0->streamlit) (0.12.1)\n",
            "Requirement already satisfied: gitdb<5,>=4.0.1 in /usr/local/lib/python3.10/dist-packages (from gitpython!=3.1.19,<4,>=3.0.7->streamlit) (4.0.11)\n",
            "Requirement already satisfied: python-dateutil>=2.8.2 in /usr/local/lib/python3.10/dist-packages (from pandas<3,>=1.4.0->streamlit) (2.8.2)\n",
            "Requirement already satisfied: pytz>=2020.1 in /usr/local/lib/python3.10/dist-packages (from pandas<3,>=1.4.0->streamlit) (2024.2)\n",
            "Requirement already satisfied: tzdata>=2022.7 in /usr/local/lib/python3.10/dist-packages (from pandas<3,>=1.4.0->streamlit) (2024.2)\n",
            "Requirement already satisfied: charset-normalizer<4,>=2 in /usr/local/lib/python3.10/dist-packages (from requests<3,>=2.27->streamlit) (3.4.0)\n",
            "Requirement already satisfied: idna<4,>=2.5 in /usr/local/lib/python3.10/dist-packages (from requests<3,>=2.27->streamlit) (3.10)\n",
            "Requirement already satisfied: urllib3<3,>=1.21.1 in /usr/local/lib/python3.10/dist-packages (from requests<3,>=2.27->streamlit) (2.2.3)\n",
            "Requirement already satisfied: certifi>=2017.4.17 in /usr/local/lib/python3.10/dist-packages (from requests<3,>=2.27->streamlit) (2024.8.30)\n",
            "Requirement already satisfied: markdown-it-py>=2.2.0 in /usr/local/lib/python3.10/dist-packages (from rich<14,>=10.14.0->streamlit) (3.0.0)\n",
            "Requirement already satisfied: pygments<3.0.0,>=2.13.0 in /usr/local/lib/python3.10/dist-packages (from rich<14,>=10.14.0->streamlit) (2.18.0)\n",
            "Requirement already satisfied: lxml in /usr/local/lib/python3.10/dist-packages (from premailer->yagmail) (5.3.0)\n",
            "Requirement already satisfied: cssselect in /usr/local/lib/python3.10/dist-packages (from premailer->yagmail) (1.2.0)\n",
            "Requirement already satisfied: cssutils in /usr/local/lib/python3.10/dist-packages (from premailer->yagmail) (2.11.1)\n",
            "Requirement already satisfied: smmap<6,>=3.0.1 in /usr/local/lib/python3.10/dist-packages (from gitdb<5,>=4.0.1->gitpython!=3.1.19,<4,>=3.0.7->streamlit) (5.0.1)\n",
            "Requirement already satisfied: MarkupSafe>=2.0 in /usr/local/lib/python3.10/dist-packages (from jinja2->altair<6,>=4.0->streamlit) (3.0.2)\n",
            "Requirement already satisfied: attrs>=22.2.0 in /usr/local/lib/python3.10/dist-packages (from jsonschema>=3.0->altair<6,>=4.0->streamlit) (24.2.0)\n",
            "Requirement already satisfied: jsonschema-specifications>=2023.03.6 in /usr/local/lib/python3.10/dist-packages (from jsonschema>=3.0->altair<6,>=4.0->streamlit) (2024.10.1)\n",
            "Requirement already satisfied: referencing>=0.28.4 in /usr/local/lib/python3.10/dist-packages (from jsonschema>=3.0->altair<6,>=4.0->streamlit) (0.35.1)\n",
            "Requirement already satisfied: rpds-py>=0.7.1 in /usr/local/lib/python3.10/dist-packages (from jsonschema>=3.0->altair<6,>=4.0->streamlit) (0.21.0)\n",
            "Requirement already satisfied: mdurl~=0.1 in /usr/local/lib/python3.10/dist-packages (from markdown-it-py>=2.2.0->rich<14,>=10.14.0->streamlit) (0.1.2)\n",
            "Requirement already satisfied: six>=1.5 in /usr/local/lib/python3.10/dist-packages (from python-dateutil>=2.8.2->pandas<3,>=1.4.0->streamlit) (1.16.0)\n",
            "Requirement already satisfied: more-itertools in /usr/local/lib/python3.10/dist-packages (from cssutils->premailer->yagmail) (10.5.0)\n"
          ]
        }
      ]
    },
    {
      "cell_type": "markdown",
      "metadata": {
        "id": "waCfwniZOow8"
      },
      "source": [
        "## Create a streamlit app example\n"
      ]
    },
    {
      "cell_type": "code",
      "execution_count": 33,
      "metadata": {
        "colab": {
          "base_uri": "https://localhost:8080/"
        },
        "id": "meJ36PefNftd",
        "outputId": "1dc480e0-575d-4fbb-a0d2-1f5555ec2574"
      },
      "outputs": [
        {
          "output_type": "stream",
          "name": "stdout",
          "text": [
            "Overwriting app.py\n"
          ]
        }
      ],
      "source": [
        "\n",
        "%%writefile app.py\n",
        "import csv\n",
        "from datetime import datetime\n",
        "import yagmail\n",
        "import streamlit as st\n",
        "from random import choice\n",
        "\n",
        "# Clase: BirthdayManager\n",
        "class BirthdayManager:\n",
        "    def __init__(self, data_file=\"birthdays.csv\"):\n",
        "        self.data_file = data_file\n",
        "        self.birthdays = []\n",
        "        self.load_birthdays()\n",
        "\n",
        "    def load_birthdays(self):\n",
        "        \"\"\"Carga los cumpleaños desde el archivo CSV\"\"\"\n",
        "        try:\n",
        "            with open(self.data_file, mode='r', encoding='utf-8') as file:\n",
        "                reader = csv.DictReader(file)\n",
        "                self.birthdays = list(reader)\n",
        "        except FileNotFoundError:\n",
        "            self.birthdays = []\n",
        "\n",
        "    def save_birthdays(self):\n",
        "        \"\"\"Guarda los cumpleaños en el archivo CSV\"\"\"\n",
        "        with open(self.data_file, mode='w', newline='', encoding='utf-8') as file:\n",
        "            fieldnames = ['name', 'email', 'birth_date']\n",
        "            writer = csv.DictWriter(file, fieldnames=fieldnames)\n",
        "            writer.writeheader()\n",
        "            writer.writerows(self.birthdays)\n",
        "\n",
        "    def add_birthday(self, name, email, birth_date):\n",
        "        \"\"\"Agrega un nuevo cumpleaños a la lista\"\"\"\n",
        "        self.birthdays.append({\n",
        "            \"name\": name.strip(),\n",
        "            \"email\": email.strip(),\n",
        "            \"birth_date\": birth_date\n",
        "        })\n",
        "        self.save_birthdays()\n",
        "\n",
        "    def delete_birthday(self, name):\n",
        "        \"\"\"Elimina un cumpleaños de la lista por nombre\"\"\"\n",
        "        normalized_name = name.strip().lower()\n",
        "        filtered_birthdays = [\n",
        "            b for b in self.birthdays if b['name'].strip().lower() != normalized_name\n",
        "        ]\n",
        "        if len(filtered_birthdays) < len(self.birthdays):  # Si se eliminó algo\n",
        "            self.birthdays = filtered_birthdays\n",
        "            self.save_birthdays()\n",
        "            return True\n",
        "        return False\n",
        "\n",
        "    def get_upcoming_birthdays(self):\n",
        "        \"\"\"Devuelve una lista de los cumpleaños próximos\"\"\"\n",
        "        today = datetime.now().date()\n",
        "        upcoming = []\n",
        "        for person in self.birthdays:\n",
        "            birth_date = datetime.strptime(person['birth_date'], '%Y-%m-%d').date()\n",
        "            next_birthday = birth_date.replace(year=today.year)\n",
        "            if next_birthday < today:\n",
        "                next_birthday = next_birthday.replace(year=today.year + 1)\n",
        "            days_until = (next_birthday - today).days\n",
        "            upcoming.append({\n",
        "                \"name\": person['name'],\n",
        "                \"email\": person['email'],\n",
        "                \"birth_date\": person['birth_date'],\n",
        "                \"days_until\": days_until\n",
        "            })\n",
        "        return sorted(upcoming, key=lambda x: x['days_until'])\n",
        "\n",
        "\n",
        "# Clase: EmailSender\n",
        "class EmailSender:\n",
        "    def __init__(self, sender_email, password):\n",
        "        self.sender_email = sender_email\n",
        "        self.password = password\n",
        "        try:\n",
        "            self.yag = yagmail.SMTP(user=self.sender_email, password=self.password)\n",
        "        except Exception as e:\n",
        "            raise Exception(f\"Error al inicializar la conexión de correo: {e}\")\n",
        "\n",
        "    def send_email(self, receiver_email, subject, message):\n",
        "        \"\"\"Envía un correo electrónico utilizando Yagmail\"\"\"\n",
        "        try:\n",
        "            self.yag.send(\n",
        "                to=receiver_email,\n",
        "                subject=subject,\n",
        "                contents=message\n",
        "            )\n",
        "        except Exception as e:\n",
        "            raise Exception(f\"Error al enviar el correo: {e}\")\n",
        "\n",
        "    def get_random_message(self, messages_file=\"messages.txt\"):\n",
        "        \"\"\"Obtiene un mensaje aleatorio del archivo\"\"\"\n",
        "        try:\n",
        "            with open(messages_file, 'r', encoding='utf-8') as file:\n",
        "                messages = file.readlines()\n",
        "            return choice(messages).strip()\n",
        "        except FileNotFoundError:\n",
        "            return \"¡Feliz cumpleaños! 🥳 pasatela chido.\"\n",
        "\n",
        "\n",
        "# Aplicación con Streamlit\n",
        "# Configuración inicial\n",
        "birthday_manager = BirthdayManager()\n",
        "email_sender = EmailSender(\n",
        "    sender_email=\"daniela.moreno0248@alumnos.udg.mx\",\n",
        "    password=\"uxjr ccwi dwzv hjvd\"\n",
        ")\n",
        "\n",
        "st.title(\"Gestor de Cumpleaños\")\n",
        "\n",
        "# Registro de cumpleaños\n",
        "st.header(\"Registrar un Cumpleaños\")\n",
        "name = st.text_input(\"Nombre\")\n",
        "email = st.text_input(\"Correo Electrónico\")\n",
        "birth_date = st.date_input(\n",
        "    \"Fecha de Nacimiento\",\n",
        "    min_value=datetime(1900, 1, 1),\n",
        "    max_value=datetime.now()\n",
        ")\n",
        "if st.button(\"Agregar Cumpleaños\"):\n",
        "    if name and email and birth_date:\n",
        "        birthday_manager.add_birthday(name, email, birth_date.strftime('%Y-%m-%d'))\n",
        "        st.success(\"Cumpleaños registrado correctamente.\")\n",
        "    else:\n",
        "        st.error(\"Por favor completa todos los campos.\")\n",
        "\n",
        "# Lista de cumpleaños próximos\n",
        "st.header(\"Próximos Cumpleaños\")\n",
        "upcoming = birthday_manager.get_upcoming_birthdays()\n",
        "if upcoming:\n",
        "    for person in upcoming:\n",
        "        st.write(f\"{person['name']} - {person['days_until']} días ({person['birth_date']})\")\n",
        "else:\n",
        "    st.write(\"No hay cumpleaños próximos registrados.\")\n",
        "\n",
        "# Enviar felicitaciones\n",
        "st.header(\"Enviar Felicitaciones\")\n",
        "if st.button(\"Enviar Felicitaciones\"):\n",
        "    today = datetime.now().date()\n",
        "    sent_any = False\n",
        "    for person in birthday_manager.birthdays:\n",
        "        birth_date = datetime.strptime(person['birth_date'], '%Y-%m-%d').date()\n",
        "        if birth_date.month == today.month and birth_date.day == today.day:\n",
        "            message = email_sender.get_random_message()\n",
        "            try:\n",
        "                email_sender.send_email(\n",
        "                    receiver_email=person['email'],\n",
        "                    subject=\"Feliz Cumpleaños 🎂🥳🎉🙌\",\n",
        "                    message=message\n",
        "                )\n",
        "                st.success(f\"Felicitación enviada a {person['name']}\")\n",
        "                sent_any = True\n",
        "            except Exception as e:\n",
        "                st.error(f\"Error al enviar correo a {person['name']}: {e}\")\n",
        "    if not sent_any:\n",
        "        st.info(\"No hay cumpleaños hoy para enviar felicitaciones.\")\n",
        "\n",
        "# Eliminar cumpleaños\n",
        "st.header(\"Eliminar un Cumpleaños\")\n",
        "name_to_delete = st.text_input(\"Nombre del contacto a eliminar\")\n",
        "if st.button(\"Eliminar Cumpleaños\"):\n",
        "    if name_to_delete:\n",
        "        success = birthday_manager.delete_birthday(name_to_delete.strip())\n",
        "        if success:\n",
        "            st.success(f\"El cumpleaños de {name_to_delete} ha sido eliminado.\")\n",
        "        else:\n",
        "            st.error(f\"No se encontró ningún contacto con el nombre {name_to_delete}.\")\n",
        "    else:\n",
        "        st.error(\"Por favor, ingresa un nombre para eliminar.\")\n"
      ]
    },
    {
      "cell_type": "markdown",
      "metadata": {
        "id": "xZlEJkmSOoxC"
      },
      "source": [
        "## Install localtunnel"
      ]
    },
    {
      "cell_type": "code",
      "execution_count": 34,
      "metadata": {
        "colab": {
          "base_uri": "https://localhost:8080/"
        },
        "id": "ZAyqQCQVOoxC",
        "outputId": "3d1156f4-4f33-4f43-ac5a-044ebe377475"
      },
      "outputs": [
        {
          "output_type": "stream",
          "name": "stdout",
          "text": [
            "\u001b[1G\u001b[0K⠙\u001b[1G\u001b[0K⠹\u001b[1G\u001b[0K⠸\u001b[1G\u001b[0K⠼\u001b[1G\u001b[0K\n",
            "up to date, audited 23 packages in 807ms\n",
            "\u001b[1G\u001b[0K⠼\u001b[1G\u001b[0K\n",
            "\u001b[1G\u001b[0K⠼\u001b[1G\u001b[0K3 packages are looking for funding\n",
            "\u001b[1G\u001b[0K⠼\u001b[1G\u001b[0K  run `npm fund` for details\n",
            "\u001b[1G\u001b[0K⠼\u001b[1G\u001b[0K\n",
            "2 \u001b[33m\u001b[1mmoderate\u001b[22m\u001b[39m severity vulnerabilities\n",
            "\n",
            "To address all issues (including breaking changes), run:\n",
            "  npm audit fix --force\n",
            "\n",
            "Run `npm audit` for details.\n",
            "\u001b[1G\u001b[0K⠼\u001b[1G\u001b[0K"
          ]
        }
      ],
      "source": [
        "!npm install localtunnel"
      ]
    },
    {
      "cell_type": "markdown",
      "metadata": {
        "id": "kccYE2lkN20y"
      },
      "source": [
        "## Run streamlit in background"
      ]
    },
    {
      "cell_type": "code",
      "execution_count": 35,
      "metadata": {
        "id": "Zv912rRAN0fs"
      },
      "outputs": [],
      "source": [
        "!streamlit run /content/app.py &>/content/logs.txt &"
      ]
    },
    {
      "cell_type": "markdown",
      "metadata": {
        "id": "h_KW9juhOCuH"
      },
      "source": [
        "## Expose the port 8501\n",
        "Then just click in the `url` showed.\n",
        "\n",
        "A `log.txt`file will be created."
      ]
    },
    {
      "cell_type": "code",
      "execution_count": 36,
      "metadata": {
        "colab": {
          "base_uri": "https://localhost:8080/"
        },
        "id": "XTGAizLhOIgC",
        "outputId": "cdde84f9-1160-4909-fdbf-80efb014f5fc"
      },
      "outputs": [
        {
          "output_type": "stream",
          "name": "stdout",
          "text": [
            "\u001b[1G\u001b[0K⠙\u001b[1G\u001b[0Kyour url is: https://itchy-days-bake.loca.lt\n",
            "^C\n"
          ]
        }
      ],
      "source": [
        "!npx localtunnel --port 8501"
      ]
    },
    {
      "cell_type": "markdown",
      "metadata": {
        "id": "GVz-H__pOoxG"
      },
      "source": [
        "[![ko-fi](https://www.ko-fi.com/img/githubbutton_sm.svg)](https://ko-fi.com/Y8Y3VYYE)"
      ]
    }
  ],
  "metadata": {
    "colab": {
      "provenance": [],
      "include_colab_link": true
    },
    "kernelspec": {
      "display_name": "Python 3",
      "name": "python3"
    }
  },
  "nbformat": 4,
  "nbformat_minor": 0
}